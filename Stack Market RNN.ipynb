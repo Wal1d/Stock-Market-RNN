{
 "cells": [
  {
   "cell_type": "code",
   "execution_count": 25,
   "metadata": {},
   "outputs": [],
   "source": [
    "import numpy as np\n",
    "import matplotlib.pyplot as plt\n",
    "import pandas as pd\n",
    "from sklearn.preprocessing import MinMaxScaler\n",
    "\n",
    "from tensorflow.keras import Sequential\n",
    "from tensorflow.keras.layers import Dense, LSTM, Dropout"
   ]
  },
  {
   "cell_type": "code",
   "execution_count": 3,
   "metadata": {},
   "outputs": [
    {
     "data": {
      "text/html": [
       "<div>\n",
       "<style scoped>\n",
       "    .dataframe tbody tr th:only-of-type {\n",
       "        vertical-align: middle;\n",
       "    }\n",
       "\n",
       "    .dataframe tbody tr th {\n",
       "        vertical-align: top;\n",
       "    }\n",
       "\n",
       "    .dataframe thead th {\n",
       "        text-align: right;\n",
       "    }\n",
       "</style>\n",
       "<table border=\"1\" class=\"dataframe\">\n",
       "  <thead>\n",
       "    <tr style=\"text-align: right;\">\n",
       "      <th></th>\n",
       "      <th>Date</th>\n",
       "      <th>Open</th>\n",
       "      <th>High</th>\n",
       "      <th>Low</th>\n",
       "      <th>Close</th>\n",
       "      <th>Adj Close</th>\n",
       "      <th>Volume</th>\n",
       "    </tr>\n",
       "  </thead>\n",
       "  <tbody>\n",
       "    <tr>\n",
       "      <th>5930</th>\n",
       "      <td>2020-12-07</td>\n",
       "      <td>3156.479980</td>\n",
       "      <td>3180.760010</td>\n",
       "      <td>3141.689941</td>\n",
       "      <td>3158.000000</td>\n",
       "      <td>3158.000000</td>\n",
       "      <td>2751300</td>\n",
       "    </tr>\n",
       "    <tr>\n",
       "      <th>5931</th>\n",
       "      <td>2020-12-08</td>\n",
       "      <td>3158.899902</td>\n",
       "      <td>3184.129883</td>\n",
       "      <td>3120.020020</td>\n",
       "      <td>3177.290039</td>\n",
       "      <td>3177.290039</td>\n",
       "      <td>3286300</td>\n",
       "    </tr>\n",
       "    <tr>\n",
       "      <th>5932</th>\n",
       "      <td>2020-12-09</td>\n",
       "      <td>3167.889893</td>\n",
       "      <td>3174.429932</td>\n",
       "      <td>3088.000000</td>\n",
       "      <td>3104.199951</td>\n",
       "      <td>3104.199951</td>\n",
       "      <td>4100800</td>\n",
       "    </tr>\n",
       "    <tr>\n",
       "      <th>5933</th>\n",
       "      <td>2020-12-10</td>\n",
       "      <td>3088.989990</td>\n",
       "      <td>3142.100098</td>\n",
       "      <td>3076.000000</td>\n",
       "      <td>3101.489990</td>\n",
       "      <td>3101.489990</td>\n",
       "      <td>3030200</td>\n",
       "    </tr>\n",
       "    <tr>\n",
       "      <th>5934</th>\n",
       "      <td>2020-12-11</td>\n",
       "      <td>3096.659912</td>\n",
       "      <td>3118.669922</td>\n",
       "      <td>3072.820068</td>\n",
       "      <td>3116.419922</td>\n",
       "      <td>3116.419922</td>\n",
       "      <td>3062300</td>\n",
       "    </tr>\n",
       "  </tbody>\n",
       "</table>\n",
       "</div>"
      ],
      "text/plain": [
       "            Date         Open         High          Low        Close  \\\n",
       "5930  2020-12-07  3156.479980  3180.760010  3141.689941  3158.000000   \n",
       "5931  2020-12-08  3158.899902  3184.129883  3120.020020  3177.290039   \n",
       "5932  2020-12-09  3167.889893  3174.429932  3088.000000  3104.199951   \n",
       "5933  2020-12-10  3088.989990  3142.100098  3076.000000  3101.489990   \n",
       "5934  2020-12-11  3096.659912  3118.669922  3072.820068  3116.419922   \n",
       "\n",
       "        Adj Close   Volume  \n",
       "5930  3158.000000  2751300  \n",
       "5931  3177.290039  3286300  \n",
       "5932  3104.199951  4100800  \n",
       "5933  3101.489990  3030200  \n",
       "5934  3116.419922  3062300  "
      ]
     },
     "execution_count": 3,
     "metadata": {},
     "output_type": "execute_result"
    }
   ],
   "source": [
    "data = pd.read_csv('AMZN.csv', date_parser = True)\n",
    "data.tail()"
   ]
  },
  {
   "cell_type": "code",
   "execution_count": 4,
   "metadata": {},
   "outputs": [],
   "source": [
    "# Untill 1-1-2020 Training Data --- 2020 Testing data"
   ]
  },
  {
   "cell_type": "code",
   "execution_count": 73,
   "metadata": {},
   "outputs": [],
   "source": [
    "data_training = data[data['Date']<'2020-01-01'].copy()"
   ]
  },
  {
   "cell_type": "code",
   "execution_count": 74,
   "metadata": {},
   "outputs": [
    {
     "data": {
      "text/html": [
       "<div>\n",
       "<style scoped>\n",
       "    .dataframe tbody tr th:only-of-type {\n",
       "        vertical-align: middle;\n",
       "    }\n",
       "\n",
       "    .dataframe tbody tr th {\n",
       "        vertical-align: top;\n",
       "    }\n",
       "\n",
       "    .dataframe thead th {\n",
       "        text-align: right;\n",
       "    }\n",
       "</style>\n",
       "<table border=\"1\" class=\"dataframe\">\n",
       "  <thead>\n",
       "    <tr style=\"text-align: right;\">\n",
       "      <th></th>\n",
       "      <th>Date</th>\n",
       "      <th>Open</th>\n",
       "      <th>High</th>\n",
       "      <th>Low</th>\n",
       "      <th>Close</th>\n",
       "      <th>Adj Close</th>\n",
       "      <th>Volume</th>\n",
       "    </tr>\n",
       "  </thead>\n",
       "  <tbody>\n",
       "    <tr>\n",
       "      <th>5690</th>\n",
       "      <td>2019-12-24</td>\n",
       "      <td>1793.810059</td>\n",
       "      <td>1795.569946</td>\n",
       "      <td>1787.579956</td>\n",
       "      <td>1789.209961</td>\n",
       "      <td>1789.209961</td>\n",
       "      <td>881300</td>\n",
       "    </tr>\n",
       "    <tr>\n",
       "      <th>5691</th>\n",
       "      <td>2019-12-26</td>\n",
       "      <td>1801.010010</td>\n",
       "      <td>1870.459961</td>\n",
       "      <td>1799.500000</td>\n",
       "      <td>1868.770020</td>\n",
       "      <td>1868.770020</td>\n",
       "      <td>6005400</td>\n",
       "    </tr>\n",
       "    <tr>\n",
       "      <th>5692</th>\n",
       "      <td>2019-12-27</td>\n",
       "      <td>1882.920044</td>\n",
       "      <td>1901.400024</td>\n",
       "      <td>1866.010010</td>\n",
       "      <td>1869.800049</td>\n",
       "      <td>1869.800049</td>\n",
       "      <td>6186600</td>\n",
       "    </tr>\n",
       "    <tr>\n",
       "      <th>5693</th>\n",
       "      <td>2019-12-30</td>\n",
       "      <td>1874.000000</td>\n",
       "      <td>1884.000000</td>\n",
       "      <td>1840.619995</td>\n",
       "      <td>1846.890015</td>\n",
       "      <td>1846.890015</td>\n",
       "      <td>3674700</td>\n",
       "    </tr>\n",
       "    <tr>\n",
       "      <th>5694</th>\n",
       "      <td>2019-12-31</td>\n",
       "      <td>1842.000000</td>\n",
       "      <td>1853.260010</td>\n",
       "      <td>1832.229980</td>\n",
       "      <td>1847.839966</td>\n",
       "      <td>1847.839966</td>\n",
       "      <td>2506500</td>\n",
       "    </tr>\n",
       "  </tbody>\n",
       "</table>\n",
       "</div>"
      ],
      "text/plain": [
       "            Date         Open         High          Low        Close  \\\n",
       "5690  2019-12-24  1793.810059  1795.569946  1787.579956  1789.209961   \n",
       "5691  2019-12-26  1801.010010  1870.459961  1799.500000  1868.770020   \n",
       "5692  2019-12-27  1882.920044  1901.400024  1866.010010  1869.800049   \n",
       "5693  2019-12-30  1874.000000  1884.000000  1840.619995  1846.890015   \n",
       "5694  2019-12-31  1842.000000  1853.260010  1832.229980  1847.839966   \n",
       "\n",
       "        Adj Close   Volume  \n",
       "5690  1789.209961   881300  \n",
       "5691  1868.770020  6005400  \n",
       "5692  1869.800049  6186600  \n",
       "5693  1846.890015  3674700  \n",
       "5694  1847.839966  2506500  "
      ]
     },
     "execution_count": 74,
     "metadata": {},
     "output_type": "execute_result"
    }
   ],
   "source": [
    "data_training.tail()"
   ]
  },
  {
   "cell_type": "code",
   "execution_count": 76,
   "metadata": {},
   "outputs": [
    {
     "data": {
      "text/html": [
       "<div>\n",
       "<style scoped>\n",
       "    .dataframe tbody tr th:only-of-type {\n",
       "        vertical-align: middle;\n",
       "    }\n",
       "\n",
       "    .dataframe tbody tr th {\n",
       "        vertical-align: top;\n",
       "    }\n",
       "\n",
       "    .dataframe thead th {\n",
       "        text-align: right;\n",
       "    }\n",
       "</style>\n",
       "<table border=\"1\" class=\"dataframe\">\n",
       "  <thead>\n",
       "    <tr style=\"text-align: right;\">\n",
       "      <th></th>\n",
       "      <th>Date</th>\n",
       "      <th>Open</th>\n",
       "      <th>High</th>\n",
       "      <th>Low</th>\n",
       "      <th>Close</th>\n",
       "      <th>Adj Close</th>\n",
       "      <th>Volume</th>\n",
       "    </tr>\n",
       "  </thead>\n",
       "  <tbody>\n",
       "    <tr>\n",
       "      <th>5930</th>\n",
       "      <td>2020-12-07</td>\n",
       "      <td>3156.479980</td>\n",
       "      <td>3180.760010</td>\n",
       "      <td>3141.689941</td>\n",
       "      <td>3158.000000</td>\n",
       "      <td>3158.000000</td>\n",
       "      <td>2751300</td>\n",
       "    </tr>\n",
       "    <tr>\n",
       "      <th>5931</th>\n",
       "      <td>2020-12-08</td>\n",
       "      <td>3158.899902</td>\n",
       "      <td>3184.129883</td>\n",
       "      <td>3120.020020</td>\n",
       "      <td>3177.290039</td>\n",
       "      <td>3177.290039</td>\n",
       "      <td>3286300</td>\n",
       "    </tr>\n",
       "    <tr>\n",
       "      <th>5932</th>\n",
       "      <td>2020-12-09</td>\n",
       "      <td>3167.889893</td>\n",
       "      <td>3174.429932</td>\n",
       "      <td>3088.000000</td>\n",
       "      <td>3104.199951</td>\n",
       "      <td>3104.199951</td>\n",
       "      <td>4100800</td>\n",
       "    </tr>\n",
       "    <tr>\n",
       "      <th>5933</th>\n",
       "      <td>2020-12-10</td>\n",
       "      <td>3088.989990</td>\n",
       "      <td>3142.100098</td>\n",
       "      <td>3076.000000</td>\n",
       "      <td>3101.489990</td>\n",
       "      <td>3101.489990</td>\n",
       "      <td>3030200</td>\n",
       "    </tr>\n",
       "    <tr>\n",
       "      <th>5934</th>\n",
       "      <td>2020-12-11</td>\n",
       "      <td>3096.659912</td>\n",
       "      <td>3118.669922</td>\n",
       "      <td>3072.820068</td>\n",
       "      <td>3116.419922</td>\n",
       "      <td>3116.419922</td>\n",
       "      <td>3062300</td>\n",
       "    </tr>\n",
       "  </tbody>\n",
       "</table>\n",
       "</div>"
      ],
      "text/plain": [
       "            Date         Open         High          Low        Close  \\\n",
       "5930  2020-12-07  3156.479980  3180.760010  3141.689941  3158.000000   \n",
       "5931  2020-12-08  3158.899902  3184.129883  3120.020020  3177.290039   \n",
       "5932  2020-12-09  3167.889893  3174.429932  3088.000000  3104.199951   \n",
       "5933  2020-12-10  3088.989990  3142.100098  3076.000000  3101.489990   \n",
       "5934  2020-12-11  3096.659912  3118.669922  3072.820068  3116.419922   \n",
       "\n",
       "        Adj Close   Volume  \n",
       "5930  3158.000000  2751300  \n",
       "5931  3177.290039  3286300  \n",
       "5932  3104.199951  4100800  \n",
       "5933  3101.489990  3030200  \n",
       "5934  3116.419922  3062300  "
      ]
     },
     "execution_count": 76,
     "metadata": {},
     "output_type": "execute_result"
    }
   ],
   "source": [
    "data_test.tail()"
   ]
  },
  {
   "cell_type": "code",
   "execution_count": 77,
   "metadata": {},
   "outputs": [
    {
     "data": {
      "text/html": [
       "<div>\n",
       "<style scoped>\n",
       "    .dataframe tbody tr th:only-of-type {\n",
       "        vertical-align: middle;\n",
       "    }\n",
       "\n",
       "    .dataframe tbody tr th {\n",
       "        vertical-align: top;\n",
       "    }\n",
       "\n",
       "    .dataframe thead th {\n",
       "        text-align: right;\n",
       "    }\n",
       "</style>\n",
       "<table border=\"1\" class=\"dataframe\">\n",
       "  <thead>\n",
       "    <tr style=\"text-align: right;\">\n",
       "      <th></th>\n",
       "      <th>Open</th>\n",
       "      <th>High</th>\n",
       "      <th>Low</th>\n",
       "      <th>Close</th>\n",
       "      <th>Volume</th>\n",
       "    </tr>\n",
       "  </thead>\n",
       "  <tbody>\n",
       "    <tr>\n",
       "      <th>5690</th>\n",
       "      <td>1793.810059</td>\n",
       "      <td>1795.569946</td>\n",
       "      <td>1787.579956</td>\n",
       "      <td>1789.209961</td>\n",
       "      <td>881300</td>\n",
       "    </tr>\n",
       "    <tr>\n",
       "      <th>5691</th>\n",
       "      <td>1801.010010</td>\n",
       "      <td>1870.459961</td>\n",
       "      <td>1799.500000</td>\n",
       "      <td>1868.770020</td>\n",
       "      <td>6005400</td>\n",
       "    </tr>\n",
       "    <tr>\n",
       "      <th>5692</th>\n",
       "      <td>1882.920044</td>\n",
       "      <td>1901.400024</td>\n",
       "      <td>1866.010010</td>\n",
       "      <td>1869.800049</td>\n",
       "      <td>6186600</td>\n",
       "    </tr>\n",
       "    <tr>\n",
       "      <th>5693</th>\n",
       "      <td>1874.000000</td>\n",
       "      <td>1884.000000</td>\n",
       "      <td>1840.619995</td>\n",
       "      <td>1846.890015</td>\n",
       "      <td>3674700</td>\n",
       "    </tr>\n",
       "    <tr>\n",
       "      <th>5694</th>\n",
       "      <td>1842.000000</td>\n",
       "      <td>1853.260010</td>\n",
       "      <td>1832.229980</td>\n",
       "      <td>1847.839966</td>\n",
       "      <td>2506500</td>\n",
       "    </tr>\n",
       "  </tbody>\n",
       "</table>\n",
       "</div>"
      ],
      "text/plain": [
       "             Open         High          Low        Close   Volume\n",
       "5690  1793.810059  1795.569946  1787.579956  1789.209961   881300\n",
       "5691  1801.010010  1870.459961  1799.500000  1868.770020  6005400\n",
       "5692  1882.920044  1901.400024  1866.010010  1869.800049  6186600\n",
       "5693  1874.000000  1884.000000  1840.619995  1846.890015  3674700\n",
       "5694  1842.000000  1853.260010  1832.229980  1847.839966  2506500"
      ]
     },
     "execution_count": 77,
     "metadata": {},
     "output_type": "execute_result"
    }
   ],
   "source": [
    "data_training = data_training.drop(['Date', 'Adj Close'], axis = 1)\n",
    "data_training.tail()"
   ]
  },
  {
   "cell_type": "code",
   "execution_count": 78,
   "metadata": {},
   "outputs": [],
   "source": [
    "scaler = MinMaxScaler()\n",
    "data_training = scaler.fit_transform(data_training)\n",
    "data_training"
   ]
  },
  {
   "cell_type": "code",
   "execution_count": 80,
   "metadata": {},
   "outputs": [],
   "source": [
    "data_training[0]"
   ]
  },
  {
   "cell_type": "code",
   "execution_count": 81,
   "metadata": {},
   "outputs": [
    {
     "data": {
      "text/plain": [
       "(5695, 5)"
      ]
     },
     "execution_count": 81,
     "metadata": {},
     "output_type": "execute_result"
    }
   ],
   "source": [
    "data_training.shape"
   ]
  },
  {
   "cell_type": "code",
   "execution_count": 19,
   "metadata": {},
   "outputs": [],
   "source": [
    "X_train = []\n",
    "y_train = []\n",
    "\n",
    "for i in range(60, data_training.shape[0]):\n",
    "    X_train.append(data_training[i-60:i])\n",
    "    y_train.append(data_training[i, 0])"
   ]
  },
  {
   "cell_type": "code",
   "execution_count": 21,
   "metadata": {},
   "outputs": [
    {
     "data": {
      "text/plain": [
       "5635"
      ]
     },
     "execution_count": 21,
     "metadata": {},
     "output_type": "execute_result"
    }
   ],
   "source": [
    "len(y_train)"
   ]
  },
  {
   "cell_type": "code",
   "execution_count": 22,
   "metadata": {},
   "outputs": [
    {
     "data": {
      "text/plain": [
       "(5635, 60, 5)"
      ]
     },
     "execution_count": 22,
     "metadata": {},
     "output_type": "execute_result"
    }
   ],
   "source": [
    "X_train, y_train = np.array(X_train), np.array(y_train)\n",
    "X_train.shape"
   ]
  },
  {
   "cell_type": "code",
   "execution_count": 24,
   "metadata": {},
   "outputs": [
    {
     "data": {
      "text/plain": [
       "(60, 5)"
      ]
     },
     "execution_count": 24,
     "metadata": {},
     "output_type": "execute_result"
    }
   ],
   "source": [
    "X_train[0].shape"
   ]
  },
  {
   "cell_type": "code",
   "execution_count": 26,
   "metadata": {},
   "outputs": [],
   "source": [
    "## LSTM\n",
    "\n",
    "model = Sequential()\n",
    "\n",
    "model.add(LSTM(units = 60, activation = 'relu', return_sequences = True, input_shape = (X_train.shape[1], 5)))\n",
    "model.add(Dropout(0.2))\n",
    "\n",
    "model.add(LSTM(units = 60, activation = 'relu', return_sequences = True))\n",
    "model.add(Dropout(0.2))\n",
    "\n",
    "model.add(LSTM(units = 80, activation = 'relu', return_sequences = True))\n",
    "model.add(Dropout(0.2))\n",
    "\n",
    "model.add(LSTM(units = 120, activation = 'relu'))\n",
    "model.add(Dropout(0.2))\n",
    "\n",
    "model.add(Dense(units = 1))\n"
   ]
  },
  {
   "cell_type": "code",
   "execution_count": 27,
   "metadata": {},
   "outputs": [
    {
     "name": "stdout",
     "output_type": "stream",
     "text": [
      "Model: \"sequential\"\n",
      "_________________________________________________________________\n",
      "Layer (type)                 Output Shape              Param #   \n",
      "=================================================================\n",
      "lstm (LSTM)                  (None, 60, 60)            15840     \n",
      "_________________________________________________________________\n",
      "dropout (Dropout)            (None, 60, 60)            0         \n",
      "_________________________________________________________________\n",
      "lstm_1 (LSTM)                (None, 60, 60)            29040     \n",
      "_________________________________________________________________\n",
      "dropout_1 (Dropout)          (None, 60, 60)            0         \n",
      "_________________________________________________________________\n",
      "lstm_2 (LSTM)                (None, 60, 80)            45120     \n",
      "_________________________________________________________________\n",
      "dropout_2 (Dropout)          (None, 60, 80)            0         \n",
      "_________________________________________________________________\n",
      "lstm_3 (LSTM)                (None, 120)               96480     \n",
      "_________________________________________________________________\n",
      "dropout_3 (Dropout)          (None, 120)               0         \n",
      "_________________________________________________________________\n",
      "dense (Dense)                (None, 1)                 121       \n",
      "=================================================================\n",
      "Total params: 186,601\n",
      "Trainable params: 186,601\n",
      "Non-trainable params: 0\n",
      "_________________________________________________________________\n"
     ]
    }
   ],
   "source": [
    "model.summary()"
   ]
  },
  {
   "cell_type": "code",
   "execution_count": null,
   "metadata": {},
   "outputs": [
    {
     "name": "stdout",
     "output_type": "stream",
     "text": [
      "Epoch 1/75\n",
      "177/177 [==============================] - 11s 64ms/step - loss: 5.6772e-04\n",
      "Epoch 2/75\n",
      "177/177 [==============================] - 12s 66ms/step - loss: 5.5336e-04\n",
      "Epoch 3/75\n",
      "177/177 [==============================] - 12s 66ms/step - loss: 5.2278e-04 0s - loss\n",
      "Epoch 4/75\n",
      "177/177 [==============================] - 12s 65ms/step - loss: 5.7398e-04\n",
      "Epoch 5/75\n",
      "177/177 [==============================] - 11s 63ms/step - loss: 5.9168e-04\n",
      "Epoch 6/75\n",
      "177/177 [==============================] - 11s 65ms/step - loss: 4.7426e-04\n",
      "Epoch 7/75\n",
      "177/177 [==============================] - 11s 64ms/step - loss: 5.5715e-04\n",
      "Epoch 8/75\n",
      "177/177 [==============================] - 12s 65ms/step - loss: 5.7387e-04\n",
      "Epoch 9/75\n",
      "177/177 [==============================] - 11s 64ms/step - loss: 5.6213e-04\n",
      "Epoch 10/75\n",
      "177/177 [==============================] - 12s 66ms/step - loss: 4.9012e-04\n",
      "Epoch 11/75\n",
      "177/177 [==============================] - 12s 67ms/step - loss: 5.2702e-04\n",
      "Epoch 12/75\n",
      "177/177 [==============================] - 12s 66ms/step - loss: 4.8258e-04\n",
      "Epoch 13/75\n",
      "177/177 [==============================] - 11s 65ms/step - loss: 5.5906e-04\n",
      "Epoch 14/75\n",
      "177/177 [==============================] - 11s 63ms/step - loss: 5.0042e-04\n",
      "Epoch 15/75\n",
      "177/177 [==============================] - 12s 67ms/step - loss: 5.1450e-04\n",
      "Epoch 16/75\n",
      "177/177 [==============================] - 11s 64ms/step - loss: 5.6746e-04\n",
      "Epoch 17/75\n",
      "177/177 [==============================] - 11s 64ms/step - loss: 5.1839e-04\n",
      "Epoch 18/75\n",
      "177/177 [==============================] - 11s 63ms/step - loss: 5.2429e-04\n",
      "Epoch 19/75\n",
      "177/177 [==============================] - 11s 63ms/step - loss: 4.7948e-04\n",
      "Epoch 20/75\n",
      "177/177 [==============================] - 11s 63ms/step - loss: 4.8515e-04\n",
      "Epoch 21/75\n",
      " 90/177 [==============>...............] - ETA: 5s - loss: 4.2888e-04"
     ]
    }
   ],
   "source": [
    "model.compile(optimizer='adam', loss = 'mean_squared_error')\n",
    "model.fit(X_train, y_train, epochs=75, batch_size=32)"
   ]
  },
  {
   "cell_type": "code",
   "execution_count": 34,
   "metadata": {},
   "outputs": [],
   "source": [
    "model.save_weights('model.h5')"
   ]
  },
  {
   "cell_type": "code",
   "execution_count": 35,
   "metadata": {},
   "outputs": [
    {
     "data": {
      "text/html": [
       "<div>\n",
       "<style scoped>\n",
       "    .dataframe tbody tr th:only-of-type {\n",
       "        vertical-align: middle;\n",
       "    }\n",
       "\n",
       "    .dataframe tbody tr th {\n",
       "        vertical-align: top;\n",
       "    }\n",
       "\n",
       "    .dataframe thead th {\n",
       "        text-align: right;\n",
       "    }\n",
       "</style>\n",
       "<table border=\"1\" class=\"dataframe\">\n",
       "  <thead>\n",
       "    <tr style=\"text-align: right;\">\n",
       "      <th></th>\n",
       "      <th>Date</th>\n",
       "      <th>Open</th>\n",
       "      <th>High</th>\n",
       "      <th>Low</th>\n",
       "      <th>Close</th>\n",
       "      <th>Adj Close</th>\n",
       "      <th>Volume</th>\n",
       "    </tr>\n",
       "  </thead>\n",
       "  <tbody>\n",
       "    <tr>\n",
       "      <th>5930</th>\n",
       "      <td>2020-12-07</td>\n",
       "      <td>3156.479980</td>\n",
       "      <td>3180.760010</td>\n",
       "      <td>3141.689941</td>\n",
       "      <td>3158.000000</td>\n",
       "      <td>3158.000000</td>\n",
       "      <td>2751300</td>\n",
       "    </tr>\n",
       "    <tr>\n",
       "      <th>5931</th>\n",
       "      <td>2020-12-08</td>\n",
       "      <td>3158.899902</td>\n",
       "      <td>3184.129883</td>\n",
       "      <td>3120.020020</td>\n",
       "      <td>3177.290039</td>\n",
       "      <td>3177.290039</td>\n",
       "      <td>3286300</td>\n",
       "    </tr>\n",
       "    <tr>\n",
       "      <th>5932</th>\n",
       "      <td>2020-12-09</td>\n",
       "      <td>3167.889893</td>\n",
       "      <td>3174.429932</td>\n",
       "      <td>3088.000000</td>\n",
       "      <td>3104.199951</td>\n",
       "      <td>3104.199951</td>\n",
       "      <td>4100800</td>\n",
       "    </tr>\n",
       "    <tr>\n",
       "      <th>5933</th>\n",
       "      <td>2020-12-10</td>\n",
       "      <td>3088.989990</td>\n",
       "      <td>3142.100098</td>\n",
       "      <td>3076.000000</td>\n",
       "      <td>3101.489990</td>\n",
       "      <td>3101.489990</td>\n",
       "      <td>3030200</td>\n",
       "    </tr>\n",
       "    <tr>\n",
       "      <th>5934</th>\n",
       "      <td>2020-12-11</td>\n",
       "      <td>3096.659912</td>\n",
       "      <td>3118.669922</td>\n",
       "      <td>3072.820068</td>\n",
       "      <td>3116.419922</td>\n",
       "      <td>3116.419922</td>\n",
       "      <td>3062300</td>\n",
       "    </tr>\n",
       "  </tbody>\n",
       "</table>\n",
       "</div>"
      ],
      "text/plain": [
       "            Date         Open         High          Low        Close  \\\n",
       "5930  2020-12-07  3156.479980  3180.760010  3141.689941  3158.000000   \n",
       "5931  2020-12-08  3158.899902  3184.129883  3120.020020  3177.290039   \n",
       "5932  2020-12-09  3167.889893  3174.429932  3088.000000  3104.199951   \n",
       "5933  2020-12-10  3088.989990  3142.100098  3076.000000  3101.489990   \n",
       "5934  2020-12-11  3096.659912  3118.669922  3072.820068  3116.419922   \n",
       "\n",
       "        Adj Close   Volume  \n",
       "5930  3158.000000  2751300  \n",
       "5931  3177.290039  3286300  \n",
       "5932  3104.199951  4100800  \n",
       "5933  3101.489990  3030200  \n",
       "5934  3116.419922  3062300  "
      ]
     },
     "execution_count": 35,
     "metadata": {},
     "output_type": "execute_result"
    }
   ],
   "source": [
    "data_test.tail()"
   ]
  },
  {
   "cell_type": "code",
   "execution_count": 108,
   "metadata": {},
   "outputs": [
    {
     "data": {
      "text/plain": [
       "((60, 5),\n",
       "              Open         High          Low        Close   Volume\n",
       " 5690  1793.810059  1795.569946  1787.579956  1789.209961   881300\n",
       " 5691  1801.010010  1870.459961  1799.500000  1868.770020  6005400\n",
       " 5692  1882.920044  1901.400024  1866.010010  1869.800049  6186600\n",
       " 5693  1874.000000  1884.000000  1840.619995  1846.890015  3674700\n",
       " 5694  1842.000000  1853.260010  1832.229980  1847.839966  2506500)"
      ]
     },
     "execution_count": 108,
     "metadata": {},
     "output_type": "execute_result"
    }
   ],
   "source": [
    "# get last 60 days and append them to test_data\n",
    "\n",
    "last_days = data[data['Date']<'2020-01-01'].copy()\n",
    "last_days  = last_days.tail(60)\n",
    "last_days  = last_days.drop(['Date', 'Adj Close'], axis = 1)\n",
    "\n",
    "last_days.shape, last_days.tail()"
   ]
  },
  {
   "cell_type": "code",
   "execution_count": 109,
   "metadata": {},
   "outputs": [
    {
     "data": {
      "text/plain": [
       "pandas.core.frame.DataFrame"
      ]
     },
     "execution_count": 109,
     "metadata": {},
     "output_type": "execute_result"
    }
   ],
   "source": [
    "type(last_days)"
   ]
  },
  {
   "cell_type": "code",
   "execution_count": null,
   "metadata": {},
   "outputs": [],
   "source": []
  },
  {
   "cell_type": "code",
   "execution_count": 122,
   "metadata": {},
   "outputs": [
    {
     "data": {
      "text/plain": [
       "(             Open         High          Low        Close   Volume\n",
       " 5695  1875.000000  1898.010010  1864.150024  1898.010010  4029000\n",
       " 5696  1864.500000  1886.199951  1864.500000  1874.969971  3764400\n",
       " 5697  1860.000000  1903.689941  1860.000000  1902.880005  4061800\n",
       " 5698  1904.500000  1913.890015  1892.040039  1906.859985  4044900\n",
       " 5699  1898.040039  1911.000000  1886.439941  1891.969971  3508000,\n",
       "              Open         High          Low        Close   Volume\n",
       " 5930  3156.479980  3180.760010  3141.689941  3158.000000  2751300\n",
       " 5931  3158.899902  3184.129883  3120.020020  3177.290039  3286300\n",
       " 5932  3167.889893  3174.429932  3088.000000  3104.199951  4100800\n",
       " 5933  3088.989990  3142.100098  3076.000000  3101.489990  3030200\n",
       " 5934  3096.659912  3118.669922  3072.820068  3116.419922  3062300)"
      ]
     },
     "execution_count": 122,
     "metadata": {},
     "output_type": "execute_result"
    }
   ],
   "source": [
    "# df = last_days.append(data_test)\n",
    "df = data_test.copy()\n",
    "df = df.drop(['Date', 'Adj Close'], axis = 1)\n",
    "df.head(), df.tail()"
   ]
  },
  {
   "cell_type": "code",
   "execution_count": 123,
   "metadata": {},
   "outputs": [
    {
     "data": {
      "text/plain": [
       "(240, 5)"
      ]
     },
     "execution_count": 123,
     "metadata": {},
     "output_type": "execute_result"
    }
   ],
   "source": [
    "inputs = scaler.transform(df)\n",
    "inputs.shape"
   ]
  },
  {
   "cell_type": "code",
   "execution_count": 173,
   "metadata": {},
   "outputs": [
    {
     "data": {
      "text/plain": [
       "((180, 60, 5), (180,))"
      ]
     },
     "execution_count": 173,
     "metadata": {},
     "output_type": "execute_result"
    }
   ],
   "source": [
    "X_test = []\n",
    "y_test = []\n",
    "\n",
    "for i in range(60, inputs.shape[0]):\n",
    "    X_test.append(inputs[i-60:i])\n",
    "    y_test.append(inputs[i, 0])\n",
    "\n",
    "X_test, y_test = np.array(X_test), np.array(y_test)\n",
    "X_test.shape, y_test.shape"
   ]
  },
  {
   "cell_type": "code",
   "execution_count": 172,
   "metadata": {},
   "outputs": [
    {
     "data": {
      "text/plain": [
       "array([[ 8.52019727e-01],\n",
       "       [ 8.53764355e-01],\n",
       "       [ 8.63485277e-01],\n",
       "       [ 8.75192881e-01],\n",
       "       [ 8.85396004e-01],\n",
       "       [ 8.94916356e-01],\n",
       "       [ 9.10516918e-01],\n",
       "       [ 9.40045059e-01],\n",
       "       [ 9.67455328e-01],\n",
       "       [ 9.78288829e-01],\n",
       "       [ 9.50716794e-01],\n",
       "       [ 7.75779963e-01],\n",
       "       [ 6.34152174e-01],\n",
       "       [ 5.40081799e-01],\n",
       "       [ 4.15026665e-01],\n",
       "       [ 3.04055572e-01],\n",
       "       [ 2.41404533e-01],\n",
       "       [ 1.29905716e-01],\n",
       "       [ 8.47182497e-02],\n",
       "       [ 4.81618121e-02],\n",
       "       [ 3.99520472e-02],\n",
       "       [ 2.88768187e-02],\n",
       "       [ 4.92545739e-02],\n",
       "       [ 6.83161467e-02],\n",
       "       [ 1.30765215e-02],\n",
       "       [-9.44505110e-02],\n",
       "       [-2.11198956e-01],\n",
       "       [-3.20871830e-01],\n",
       "       [-4.05520678e-01],\n",
       "       [-4.32176888e-01],\n",
       "       [-3.19577694e-01],\n",
       "       [ 5.53021356e-02],\n",
       "       [ 7.71036506e-01],\n",
       "       [ 1.72084713e+00],\n",
       "       [ 2.14730144e+00],\n",
       "       [ 3.04810476e+00],\n",
       "       [ 3.70384991e-01],\n",
       "       [ 3.50243831e+00],\n",
       "       [-1.68968165e+00],\n",
       "       [ 2.22217965e+00],\n",
       "       [ 2.07589703e+01],\n",
       "       [ 2.44703364e+00],\n",
       "       [-3.21154356e+00],\n",
       "       [-8.51784766e-01],\n",
       "       [ 1.07430267e+00],\n",
       "       [ 1.31224287e+00],\n",
       "       [ 1.11920488e+00],\n",
       "       [-1.38536084e+00],\n",
       "       [ 3.08365321e+00],\n",
       "       [-1.42758501e+00],\n",
       "       [ 1.66069794e+00],\n",
       "       [-9.67039764e-01],\n",
       "       [ 1.08651650e+00],\n",
       "       [-6.57498658e-01],\n",
       "       [-8.78698921e+00],\n",
       "       [ 2.73070121e+00],\n",
       "       [-1.95407712e+00],\n",
       "       [-4.58259583e+00],\n",
       "       [-1.92930019e+00],\n",
       "       [-6.98679066e+00],\n",
       "       [ 2.12874502e-01],\n",
       "       [ 6.60834980e+00],\n",
       "       [-3.17614918e+01],\n",
       "       [-4.68359232e+00],\n",
       "       [-2.55061131e+01],\n",
       "       [ 9.34596634e+00],\n",
       "       [ 1.08953266e+01],\n",
       "       [ 1.50636816e+01],\n",
       "       [-2.39592099e+00],\n",
       "       [-1.44803438e+01],\n",
       "       [ 9.52594757e+00],\n",
       "       [-1.47004080e+01],\n",
       "       [-2.48721008e+01],\n",
       "       [-2.14457169e+01],\n",
       "       [ 3.97977448e+01],\n",
       "       [-1.97551823e+01],\n",
       "       [-2.14785171e+00],\n",
       "       [ 5.55404472e+01],\n",
       "       [ 1.87837791e+01],\n",
       "       [-2.06756744e+01],\n",
       "       [-2.99578738e+00],\n",
       "       [-4.30704927e+00],\n",
       "       [-4.55146790e+00],\n",
       "       [-1.02804804e+01],\n",
       "       [-6.46678009e+01],\n",
       "       [-2.80369782e+00],\n",
       "       [-2.58247161e+00],\n",
       "       [-9.49114704e+00],\n",
       "       [ 1.82296813e+00],\n",
       "       [-1.13279924e+01],\n",
       "       [ 2.87102108e+01],\n",
       "       [ 3.40915561e+00],\n",
       "       [ 5.58187866e+01],\n",
       "       [-2.69750977e+01],\n",
       "       [-1.26797450e+00],\n",
       "       [ 1.24087107e+00],\n",
       "       [-2.66425157e+00],\n",
       "       [-4.62171361e-02],\n",
       "       [-3.12223387e+00],\n",
       "       [-4.09974623e+00],\n",
       "       [ 4.38333893e+01],\n",
       "       [-3.07561665e+01],\n",
       "       [ 3.08297100e+01],\n",
       "       [ 2.73067474e+01],\n",
       "       [-5.75649500e+00],\n",
       "       [ 5.74180069e+01],\n",
       "       [-3.95085831e+01],\n",
       "       [-2.64201298e+01],\n",
       "       [-3.46355286e+01],\n",
       "       [ 3.94491043e+01],\n",
       "       [ 6.60371628e+01],\n",
       "       [-6.01194382e+00],\n",
       "       [-7.36458874e+00],\n",
       "       [-3.85547028e+01],\n",
       "       [-3.44588051e+01],\n",
       "       [-3.88157997e+01],\n",
       "       [ 1.48289276e+02],\n",
       "       [ 5.93638945e+00],\n",
       "       [ 7.09493332e+01],\n",
       "       [-3.95275116e+01],\n",
       "       [ 6.56008682e+01],\n",
       "       [ 7.18386507e+00],\n",
       "       [-3.69208755e+01],\n",
       "       [ 9.01895981e+01],\n",
       "       [ 1.21123543e+02],\n",
       "       [-1.31443996e+01],\n",
       "       [-1.34982233e+01],\n",
       "       [-1.36111765e+01],\n",
       "       [-1.15192795e+01],\n",
       "       [-1.33244505e+01],\n",
       "       [ 1.20329323e+02],\n",
       "       [-1.25831470e+01],\n",
       "       [-3.63658829e+01],\n",
       "       [-8.75057125e+00],\n",
       "       [-1.20078955e+01],\n",
       "       [-1.22490559e+01],\n",
       "       [ 1.17626419e+01],\n",
       "       [ 1.22538628e+02],\n",
       "       [-5.17009735e+01],\n",
       "       [-1.15159492e+01],\n",
       "       [-2.75548611e+01],\n",
       "       [-2.53666458e+01],\n",
       "       [-9.91471004e+00],\n",
       "       [-1.76863403e+01],\n",
       "       [-3.68249435e+01],\n",
       "       [ 1.13561983e+01],\n",
       "       [ 9.48796558e+00],\n",
       "       [ 9.89900436e+01],\n",
       "       [-3.14978909e+00],\n",
       "       [-4.35162315e+01],\n",
       "       [-2.46065769e+01],\n",
       "       [-3.34047394e+01],\n",
       "       [-1.16110525e+01],\n",
       "       [ 8.08287354e+01],\n",
       "       [ 1.47904434e+01],\n",
       "       [ 1.59097809e+02],\n",
       "       [-9.30846558e+01],\n",
       "       [-8.51769180e+01],\n",
       "       [ 7.01709518e+01],\n",
       "       [-5.98375940e+00],\n",
       "       [-5.02157450e+00],\n",
       "       [ 2.09121208e+01],\n",
       "       [-2.97860298e+01],\n",
       "       [-2.66076660e+01],\n",
       "       [-1.42288246e+01],\n",
       "       [-3.71919174e+01],\n",
       "       [-1.32166338e+01],\n",
       "       [-1.06413102e+00],\n",
       "       [-1.37559175e+01],\n",
       "       [-1.81306915e+01],\n",
       "       [-1.20535250e+01],\n",
       "       [ 2.10853138e+01],\n",
       "       [ 5.91491890e+01],\n",
       "       [ 3.78875434e-01],\n",
       "       [-1.22049980e+01],\n",
       "       [ 1.20935081e+02],\n",
       "       [ 1.18161858e+02],\n",
       "       [ 2.62150466e-01],\n",
       "       [-3.61682930e+01],\n",
       "       [-2.09457207e+00]], dtype=float32)"
      ]
     },
     "execution_count": 172,
     "metadata": {},
     "output_type": "execute_result"
    }
   ],
   "source": [
    "y_pred = model.predict(X_test)\n",
    "y_pred"
   ]
  },
  {
   "cell_type": "code",
   "execution_count": 174,
   "metadata": {},
   "outputs": [
    {
     "data": {
      "text/plain": [
       "array([[  0],\n",
       "       [  0],\n",
       "       [  0],\n",
       "       [  0],\n",
       "       [  0],\n",
       "       [  0],\n",
       "       [  0],\n",
       "       [  0],\n",
       "       [  0],\n",
       "       [  0],\n",
       "       [  0],\n",
       "       [  0],\n",
       "       [  0],\n",
       "       [  0],\n",
       "       [  0],\n",
       "       [  0],\n",
       "       [  0],\n",
       "       [  0],\n",
       "       [  0],\n",
       "       [  0],\n",
       "       [  0],\n",
       "       [  0],\n",
       "       [  0],\n",
       "       [  0],\n",
       "       [  0],\n",
       "       [  0],\n",
       "       [  0],\n",
       "       [  0],\n",
       "       [  0],\n",
       "       [  0],\n",
       "       [  0],\n",
       "       [  0],\n",
       "       [  0],\n",
       "       [  1],\n",
       "       [  2],\n",
       "       [  3],\n",
       "       [  0],\n",
       "       [  3],\n",
       "       [ -1],\n",
       "       [  2],\n",
       "       [ 20],\n",
       "       [  2],\n",
       "       [ -3],\n",
       "       [  0],\n",
       "       [  1],\n",
       "       [  1],\n",
       "       [  1],\n",
       "       [ -1],\n",
       "       [  3],\n",
       "       [ -1],\n",
       "       [  1],\n",
       "       [  0],\n",
       "       [  1],\n",
       "       [  0],\n",
       "       [ -8],\n",
       "       [  2],\n",
       "       [ -1],\n",
       "       [ -4],\n",
       "       [ -1],\n",
       "       [ -6],\n",
       "       [  0],\n",
       "       [  6],\n",
       "       [-31],\n",
       "       [ -4],\n",
       "       [-25],\n",
       "       [  9],\n",
       "       [ 10],\n",
       "       [ 15],\n",
       "       [ -2],\n",
       "       [-14],\n",
       "       [  9],\n",
       "       [-14],\n",
       "       [-24],\n",
       "       [-21],\n",
       "       [ 39],\n",
       "       [-19],\n",
       "       [ -2],\n",
       "       [ 55],\n",
       "       [ 18],\n",
       "       [-20],\n",
       "       [ -2],\n",
       "       [ -4],\n",
       "       [ -4],\n",
       "       [-10],\n",
       "       [-64],\n",
       "       [ -2],\n",
       "       [ -2],\n",
       "       [ -9],\n",
       "       [  1],\n",
       "       [-11],\n",
       "       [ 28],\n",
       "       [  3],\n",
       "       [ 55],\n",
       "       [-26],\n",
       "       [ -1],\n",
       "       [  1],\n",
       "       [ -2],\n",
       "       [  0],\n",
       "       [ -3],\n",
       "       [ -4],\n",
       "       [ 43],\n",
       "       [-30],\n",
       "       [ 30],\n",
       "       [ 27],\n",
       "       [ -5],\n",
       "       [ 57],\n",
       "       [-39],\n",
       "       [-26],\n",
       "       [-34],\n",
       "       [ 39],\n",
       "       [ 66],\n",
       "       [ -6],\n",
       "       [ -7],\n",
       "       [-38],\n",
       "       [-34],\n",
       "       [-38],\n",
       "       [148],\n",
       "       [  5],\n",
       "       [ 70],\n",
       "       [-39],\n",
       "       [ 65],\n",
       "       [  7],\n",
       "       [-36],\n",
       "       [ 90],\n",
       "       [121],\n",
       "       [-13],\n",
       "       [-13],\n",
       "       [-13],\n",
       "       [-11],\n",
       "       [-13],\n",
       "       [120],\n",
       "       [-12],\n",
       "       [-36],\n",
       "       [ -8],\n",
       "       [-12],\n",
       "       [-12],\n",
       "       [ 11],\n",
       "       [122],\n",
       "       [-51],\n",
       "       [-11],\n",
       "       [-27],\n",
       "       [-25],\n",
       "       [ -9],\n",
       "       [-17],\n",
       "       [-36],\n",
       "       [ 11],\n",
       "       [  9],\n",
       "       [ 98],\n",
       "       [ -3],\n",
       "       [-43],\n",
       "       [-24],\n",
       "       [-33],\n",
       "       [-11],\n",
       "       [ 80],\n",
       "       [ 14],\n",
       "       [159],\n",
       "       [-93],\n",
       "       [-85],\n",
       "       [ 70],\n",
       "       [ -5],\n",
       "       [ -5],\n",
       "       [ 20],\n",
       "       [-29],\n",
       "       [-26],\n",
       "       [-14],\n",
       "       [-37],\n",
       "       [-13],\n",
       "       [ -1],\n",
       "       [-13],\n",
       "       [-18],\n",
       "       [-12],\n",
       "       [ 21],\n",
       "       [ 59],\n",
       "       [  0],\n",
       "       [-12],\n",
       "       [120],\n",
       "       [118],\n",
       "       [  0],\n",
       "       [-36],\n",
       "       [ -2]])"
      ]
     },
     "execution_count": 174,
     "metadata": {},
     "output_type": "execute_result"
    }
   ],
   "source": [
    "np.array(y_pred, dtype='int')"
   ]
  },
  {
   "cell_type": "code",
   "execution_count": 153,
   "metadata": {},
   "outputs": [
    {
     "data": {
      "text/plain": [
       "(0.005394616318568702,\n",
       " array([5.39461632e-03, 5.73394417e-03, 5.84761091e-03, 6.08679629e-03,\n",
       "        1.14349750e-07]))"
      ]
     },
     "execution_count": 153,
     "metadata": {},
     "output_type": "execute_result"
    }
   ],
   "source": [
    "scaler.scale_[0], scaler.scale_"
   ]
  },
  {
   "cell_type": "code",
   "execution_count": 154,
   "metadata": {},
   "outputs": [
    {
     "data": {
      "text/plain": [
       "185.36999500000024"
      ]
     },
     "execution_count": 154,
     "metadata": {},
     "output_type": "execute_result"
    }
   ],
   "source": [
    "scale = 1/scaler.scale_[0]\n",
    "scale"
   ]
  },
  {
   "cell_type": "code",
   "execution_count": 171,
   "metadata": {},
   "outputs": [
    {
     "data": {
      "text/plain": [
       "array([[ -0.36327894,  -0.58726351,  -0.41798043, ...,  -7.07989959,\n",
       "         -6.65426488,  -6.69564117],\n",
       "       [ -0.36153431,  -0.58551888,  -0.4162358 , ...,  -7.07815496,\n",
       "         -6.65252026,  -6.69389654],\n",
       "       [ -0.35181339,  -0.57579796,  -0.40651488, ...,  -7.06843404,\n",
       "         -6.64279934,  -6.68417562],\n",
       "       ...,\n",
       "       [ -0.9531482 ,  -1.17713277,  -1.00784969, ...,  -7.66976885,\n",
       "         -7.24413415,  -7.28551043],\n",
       "       [-37.38359166, -37.60757624, -37.43829315, ..., -44.10021232,\n",
       "        -43.67457761, -43.7159539 ],\n",
       "       [ -3.30987073,  -3.53385531,  -3.36457222, ..., -10.02649138,\n",
       "         -9.60085668,  -9.64223297]])"
      ]
     },
     "execution_count": 171,
     "metadata": {},
     "output_type": "execute_result"
    }
   ],
   "source": [
    "# y_test = scaler.inverse_transform(y_test)\n",
    "# y_test\n",
    "\n",
    "diff = y_pred - y_test\n",
    "diff"
   ]
  },
  {
   "cell_type": "code",
   "execution_count": 170,
   "metadata": {},
   "outputs": [
    {
     "data": {
      "image/png": "[encoded data removed]",
      "text/plain": [
       "<Figure size 1008x360 with 1 Axes>"
      ]
     },
     "metadata": {
      "needs_background": "light"
     },
     "output_type": "display_data"
    }
   ],
   "source": [
    "# Visualising the results\n",
    "plt.figure(figsize=(14,5))\n",
    "plt.plot(y_test, color = 'red', label = 'Real Stock Price')\n",
    "# plt.plot(y_pred, color = 'blue', label = 'Predicted Stock Price')\n",
    "plt.title('Stock Price Prediction')\n",
    "plt.xlabel('Time')\n",
    "plt.ylabel('Google Stock Price')\n",
    "plt.legend()\n",
    "plt.show()"
   ]
  },
  {
   "cell_type": "code",
   "execution_count": null,
   "metadata": {},
   "outputs": [],
   "source": []
  }
 ],
 "metadata": {
  "kernelspec": {
   "display_name": "Python 3",
   "language": "python",
   "name": "python3"
  },
  "language_info": {
   "codemirror_mode": {
    "name": "ipython",
    "version": 3
   },
   "file_extension": ".py",
   "mimetype": "text/x-python",
   "name": "python",
   "nbconvert_exporter": "python",
   "pygments_lexer": "ipython3",
   "version": "3.8.5"
  }
 },
 "nbformat": 4,
 "nbformat_minor": 4
}
